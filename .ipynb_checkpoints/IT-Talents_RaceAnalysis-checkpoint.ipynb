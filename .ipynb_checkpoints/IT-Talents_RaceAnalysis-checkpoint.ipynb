{
 "cells": [
  {
   "cell_type": "markdown",
   "metadata": {},
   "source": [
    "# IT-Talents Race Analysis\n",
    "\n",
    "## Structure\n",
    "\n",
    "### 1. Cleaning\n",
    "### 2. Analyzing\n",
    "### 3. Predicting"
   ]
  },
  {
   "cell_type": "markdown",
   "metadata": {},
   "source": [
    "Importing the basic libraries"
   ]
  },
  {
   "cell_type": "code",
   "execution_count": 1,
   "metadata": {
    "collapsed": true
   },
   "outputs": [],
   "source": [
    "import pandas as pd # For data management\n",
    "import numpy as np # For math and array functions\n",
    "import matplotlib.pyplot as plt # For plotting"
   ]
  },
  {
   "cell_type": "markdown",
   "metadata": {},
   "source": [
    "## 1. Loading and Cleaning\n",
    "We will load the data and check if we need to clean something up"
   ]
  },
  {
   "cell_type": "code",
   "execution_count": 2,
   "metadata": {
    "collapsed": true
   },
   "outputs": [],
   "source": [
    "# Loading the dataset with pandas\n",
    "allRaces = pd.read_csv('races.csv', sep=';', index_col='id')"
   ]
  },
  {
   "cell_type": "code",
   "execution_count": 3,
   "metadata": {},
   "outputs": [
    {
     "data": {
      "text/plain": [
       "['race_created',\n",
       " 'race_driven',\n",
       " 'track_id',\n",
       " 'challenger',\n",
       " 'opponent',\n",
       " 'money',\n",
       " 'fuel_consumption',\n",
       " 'winner',\n",
       " 'status',\n",
       " 'forecast',\n",
       " 'weather']"
      ]
     },
     "execution_count": 3,
     "metadata": {},
     "output_type": "execute_result"
    }
   ],
   "source": [
    "# having a quick peek at the header\n",
    "list(allRaces)"
   ]
  },
  {
   "cell_type": "code",
   "execution_count": 4,
   "metadata": {
    "scrolled": true
   },
   "outputs": [
    {
     "data": {
      "text/plain": [
       "array(['06.03.2012', '06.03.2012 00:03', 12, 5, 4, 30, '0.63', 4,\n",
       "       'finished',\n",
       "       'a:4:{s:5:\"sunny\";i:70;s:5:\"rainy\";i:15;s:8:\"thundery\";i:0;s:5:\"snowy\";i:15;}',\n",
       "       'sunny'], dtype=object)"
      ]
     },
     "execution_count": 4,
     "metadata": {},
     "output_type": "execute_result"
    }
   ],
   "source": [
    "# checking out how the values could look like\n",
    "allRaces.values[1]"
   ]
  },
  {
   "cell_type": "code",
   "execution_count": 5,
   "metadata": {
    "collapsed": true
   },
   "outputs": [],
   "source": [
    "# Fuel consumption is a string but should be a number, so lets fix that\n",
    "allRaces[['fuel_consumption']] = allRaces[['fuel_consumption']].apply(pd.to_numeric, errors='coerce')"
   ]
  },
  {
   "cell_type": "code",
   "execution_count": 6,
   "metadata": {
    "scrolled": true
   },
   "outputs": [
    {
     "data": {
      "text/plain": [
       "array(['06.03.2012', '06.03.2012 00:03', 12, 5, 4, 30, 0.63, 4, 'finished',\n",
       "       'a:4:{s:5:\"sunny\";i:70;s:5:\"rainy\";i:15;s:8:\"thundery\";i:0;s:5:\"snowy\";i:15;}',\n",
       "       'sunny'], dtype=object)"
      ]
     },
     "execution_count": 6,
     "metadata": {},
     "output_type": "execute_result"
    }
   ],
   "source": [
    "allRaces.values[1] # Now fuel consumption is a nice float variable"
   ]
  },
  {
   "cell_type": "markdown",
   "metadata": {},
   "source": [
    "There will be more to change and to clean later, but we will just do that as soon as we need to"
   ]
  },
  {
   "cell_type": "markdown",
   "metadata": {},
   "source": [
    "## 2. Analyzing\n",
    "In this chapter we answer some questions about the data "
   ]
  },
  {
   "cell_type": "markdown",
   "metadata": {},
   "source": [
    "### 2.1 Does weather affect the fuel consumption?\n",
    "This question can only be awnsered by completed races. Therefore we only include finished races"
   ]
  },
  {
   "cell_type": "code",
   "execution_count": 7,
   "metadata": {
    "scrolled": true
   },
   "outputs": [
    {
     "data": {
      "text/html": [
       "<div>\n",
       "<style>\n",
       "    .dataframe thead tr:only-child th {\n",
       "        text-align: right;\n",
       "    }\n",
       "\n",
       "    .dataframe thead th {\n",
       "        text-align: left;\n",
       "    }\n",
       "\n",
       "    .dataframe tbody tr th {\n",
       "        vertical-align: top;\n",
       "    }\n",
       "</style>\n",
       "<table border=\"1\" class=\"dataframe\">\n",
       "  <thead>\n",
       "    <tr style=\"text-align: right;\">\n",
       "      <th></th>\n",
       "      <th>weather</th>\n",
       "      <th>fuel_consumption</th>\n",
       "    </tr>\n",
       "  </thead>\n",
       "  <tbody>\n",
       "    <tr>\n",
       "      <th>0</th>\n",
       "      <td>rainy</td>\n",
       "      <td>9.807224</td>\n",
       "    </tr>\n",
       "    <tr>\n",
       "      <th>1</th>\n",
       "      <td>snowy</td>\n",
       "      <td>9.790905</td>\n",
       "    </tr>\n",
       "    <tr>\n",
       "      <th>2</th>\n",
       "      <td>sunny</td>\n",
       "      <td>9.495855</td>\n",
       "    </tr>\n",
       "    <tr>\n",
       "      <th>3</th>\n",
       "      <td>thundery</td>\n",
       "      <td>9.774463</td>\n",
       "    </tr>\n",
       "  </tbody>\n",
       "</table>\n",
       "</div>"
      ],
      "text/plain": [
       "    weather  fuel_consumption\n",
       "0     rainy          9.807224\n",
       "1     snowy          9.790905\n",
       "2     sunny          9.495855\n",
       "3  thundery          9.774463"
      ]
     },
     "execution_count": 7,
     "metadata": {},
     "output_type": "execute_result"
    }
   ],
   "source": [
    "finished = allRaces.loc[allRaces['status'] == 'finished'] # Select all the finished races\n",
    "finished.groupby(['weather'], as_index=False).mean()[['weather', 'fuel_consumption']] # Get the mean of every weather"
   ]
  },
  {
   "cell_type": "markdown",
   "metadata": {
    "collapsed": true
   },
   "source": [
    "There seems to be no correlation. The averages of the fuel_consumption are the same in all kinds of weather conditions."
   ]
  },
  {
   "cell_type": "markdown",
   "metadata": {},
   "source": [
    "### 2.2 Which track is the most popular?\n",
    "For this question we regard all races again"
   ]
  },
  {
   "cell_type": "code",
   "execution_count": 8,
   "metadata": {},
   "outputs": [
    {
     "data": {
      "image/png": "[encoded data removed]",
      "text/plain": [
       "<matplotlib.figure.Figure at 0xaaf6530>"
      ]
     },
     "metadata": {},
     "output_type": "display_data"
    }
   ],
   "source": [
    "#Lets get the most populat tracks\n",
    "plt.hist(allRaces['track_id'].values)\n",
    "plt.show()"
   ]
  },
  {
   "cell_type": "markdown",
   "metadata": {},
   "source": [
    "As you can see this is a very uneven distribution. Track 12 seems to be the most popular by far. \n",
    "Lets check the absolute numbers"
   ]
  },
  {
   "cell_type": "code",
   "execution_count": 9,
   "metadata": {},
   "outputs": [
    {
     "data": {
      "text/plain": [
       "12    104878\n",
       "3      38114\n",
       "5      10901\n",
       "8       2206\n",
       "7       2132\n",
       "4       1995\n",
       "10      1806\n",
       "13      1471\n",
       "9        903\n",
       "6        797\n",
       "11       777\n",
       "14       629\n",
       "Name: track_id, dtype: int64"
      ]
     },
     "execution_count": 9,
     "metadata": {},
     "output_type": "execute_result"
    }
   ],
   "source": [
    "allRaces['track_id'].value_counts()"
   ]
  },
  {
   "cell_type": "markdown",
   "metadata": {},
   "source": [
    "We will get back analyzing the track data so lets just save the amount of races per track and the IDs"
   ]
  },
  {
   "cell_type": "code",
   "execution_count": 10,
   "metadata": {},
   "outputs": [
    {
     "data": {
      "text/html": [
       "<div>\n",
       "<style>\n",
       "    .dataframe thead tr:only-child th {\n",
       "        text-align: right;\n",
       "    }\n",
       "\n",
       "    .dataframe thead th {\n",
       "        text-align: left;\n",
       "    }\n",
       "\n",
       "    .dataframe tbody tr th {\n",
       "        vertical-align: top;\n",
       "    }\n",
       "</style>\n",
       "<table border=\"1\" class=\"dataframe\">\n",
       "  <thead>\n",
       "    <tr style=\"text-align: right;\">\n",
       "      <th></th>\n",
       "      <th>races</th>\n",
       "    </tr>\n",
       "    <tr>\n",
       "      <th>track_id</th>\n",
       "      <th></th>\n",
       "    </tr>\n",
       "  </thead>\n",
       "  <tbody>\n",
       "    <tr>\n",
       "      <th>12</th>\n",
       "      <td>104878</td>\n",
       "    </tr>\n",
       "    <tr>\n",
       "      <th>3</th>\n",
       "      <td>38114</td>\n",
       "    </tr>\n",
       "    <tr>\n",
       "      <th>5</th>\n",
       "      <td>10901</td>\n",
       "    </tr>\n",
       "    <tr>\n",
       "      <th>8</th>\n",
       "      <td>2206</td>\n",
       "    </tr>\n",
       "    <tr>\n",
       "      <th>7</th>\n",
       "      <td>2132</td>\n",
       "    </tr>\n",
       "    <tr>\n",
       "      <th>4</th>\n",
       "      <td>1995</td>\n",
       "    </tr>\n",
       "    <tr>\n",
       "      <th>10</th>\n",
       "      <td>1806</td>\n",
       "    </tr>\n",
       "    <tr>\n",
       "      <th>13</th>\n",
       "      <td>1471</td>\n",
       "    </tr>\n",
       "    <tr>\n",
       "      <th>9</th>\n",
       "      <td>903</td>\n",
       "    </tr>\n",
       "    <tr>\n",
       "      <th>6</th>\n",
       "      <td>797</td>\n",
       "    </tr>\n",
       "    <tr>\n",
       "      <th>11</th>\n",
       "      <td>777</td>\n",
       "    </tr>\n",
       "    <tr>\n",
       "      <th>14</th>\n",
       "      <td>629</td>\n",
       "    </tr>\n",
       "  </tbody>\n",
       "</table>\n",
       "</div>"
      ],
      "text/plain": [
       "           races\n",
       "track_id        \n",
       "12        104878\n",
       "3          38114\n",
       "5          10901\n",
       "8           2206\n",
       "7           2132\n",
       "4           1995\n",
       "10          1806\n",
       "13          1471\n",
       "9            903\n",
       "6            797\n",
       "11           777\n",
       "14           629"
      ]
     },
     "execution_count": 10,
     "metadata": {},
     "output_type": "execute_result"
    }
   ],
   "source": [
    "# Lets save that\n",
    "tracks = pd.DataFrame(allRaces['track_id'].value_counts())\n",
    "tracks.columns = ['races']\n",
    "tracks.index.name = 'track_id'\n",
    "tracks"
   ]
  },
  {
   "cell_type": "markdown",
   "metadata": {},
   "source": [
    "### 2.3 Cont' fuel_consumption and weather\n",
    "As track 12 is the most popular, lets check wether there is an correlation between the fuel_consumption and the weather on this one"
   ]
  },
  {
   "cell_type": "code",
   "execution_count": 11,
   "metadata": {},
   "outputs": [
    {
     "data": {
      "text/html": [
       "<div>\n",
       "<style>\n",
       "    .dataframe thead tr:only-child th {\n",
       "        text-align: right;\n",
       "    }\n",
       "\n",
       "    .dataframe thead th {\n",
       "        text-align: left;\n",
       "    }\n",
       "\n",
       "    .dataframe tbody tr th {\n",
       "        vertical-align: top;\n",
       "    }\n",
       "</style>\n",
       "<table border=\"1\" class=\"dataframe\">\n",
       "  <thead>\n",
       "    <tr style=\"text-align: right;\">\n",
       "      <th></th>\n",
       "      <th>weather</th>\n",
       "      <th>fuel_consumption</th>\n",
       "    </tr>\n",
       "  </thead>\n",
       "  <tbody>\n",
       "    <tr>\n",
       "      <th>0</th>\n",
       "      <td>rainy</td>\n",
       "      <td>9.457026</td>\n",
       "    </tr>\n",
       "    <tr>\n",
       "      <th>1</th>\n",
       "      <td>snowy</td>\n",
       "      <td>9.709260</td>\n",
       "    </tr>\n",
       "    <tr>\n",
       "      <th>2</th>\n",
       "      <td>sunny</td>\n",
       "      <td>9.362550</td>\n",
       "    </tr>\n",
       "    <tr>\n",
       "      <th>3</th>\n",
       "      <td>thundery</td>\n",
       "      <td>9.799436</td>\n",
       "    </tr>\n",
       "  </tbody>\n",
       "</table>\n",
       "</div>"
      ],
      "text/plain": [
       "    weather  fuel_consumption\n",
       "0     rainy          9.457026\n",
       "1     snowy          9.709260\n",
       "2     sunny          9.362550\n",
       "3  thundery          9.799436"
      ]
     },
     "execution_count": 11,
     "metadata": {},
     "output_type": "execute_result"
    }
   ],
   "source": [
    "# The most popular track seems to be track 12, so lets check our \"weather affects fuel_consumption\"-hypothesis only on track 12\n",
    "finishedOnTrack12 = finished.loc[allRaces['track_id'] == 12]\n",
    "finishedOnTrack12.groupby(['weather'], as_index=False).mean()[['weather', 'fuel_consumption']]"
   ]
  },
  {
   "cell_type": "markdown",
   "metadata": {
    "collapsed": true
   },
   "source": [
    "There still seems to be no significant correlation between the weather and the fuel_consumption. But there is still a small effect. We can say that driving in the sun takes slightly less fuel than in thundery weather"
   ]
  },
  {
   "cell_type": "markdown",
   "metadata": {},
   "source": [
    "### 2.4 Cont' popular tracks and paretos law"
   ]
  },
  {
   "cell_type": "code",
   "execution_count": 12,
   "metadata": {
    "scrolled": true
   },
   "outputs": [
    {
     "data": {
      "text/plain": [
       "12    62.948580\n",
       "3     22.876315\n",
       "5      6.542864\n",
       "8      1.324058\n",
       "7      1.279643\n",
       "4      1.197414\n",
       "10     1.083975\n",
       "13     0.882905\n",
       "9      0.541988\n",
       "6      0.478366\n",
       "11     0.466361\n",
       "14     0.377531\n",
       "Name: track_id, dtype: float64"
      ]
     },
     "execution_count": 12,
     "metadata": {},
     "output_type": "execute_result"
    }
   ],
   "source": [
    "# Lets further investigate the track preferances of the players, this time in percentages\n",
    "popularity = allRaces['track_id'].value_counts() / allRaces['track_id'].value_counts().values.sum() * 100\n",
    "popularity"
   ]
  },
  {
   "cell_type": "markdown",
   "metadata": {},
   "source": [
    "As you can see, track 12 and 3 account to over 84% of the races. This is parettos law: 2/12 tracks account for more than 80% of the races. The remaining 10 tracks only accout for about 14% of the races."
   ]
  },
  {
   "cell_type": "code",
   "execution_count": 13,
   "metadata": {},
   "outputs": [],
   "source": [
    "# Lets save that\n",
    "tracks['pupularity'] = popularity"
   ]
  },
  {
   "cell_type": "markdown",
   "metadata": {},
   "source": [
    "### 2.5 Which track gets finished more/less often?\n",
    "Not all races get finished, many of them get canceled before and some after start. Lets check wether some tracks have more canceled races than others.  "
   ]
  },
  {
   "cell_type": "code",
   "execution_count": 14,
   "metadata": {},
   "outputs": [
    {
     "data": {
      "text/plain": [
       "3     59.455843\n",
       "11    62.162162\n",
       "4     63.909774\n",
       "8     63.961922\n",
       "5     64.397762\n",
       "13    65.941536\n",
       "10    66.666667\n",
       "12    67.511776\n",
       "6     68.381430\n",
       "9     71.871539\n",
       "7     74.953096\n",
       "14    75.993641\n",
       "Name: track_id, dtype: float64"
      ]
     },
     "execution_count": 14,
     "metadata": {},
     "output_type": "execute_result"
    }
   ],
   "source": [
    "# Are there any maps that get finished more often?\n",
    "finishedRatio = finished['track_id'].value_counts() / allRaces['track_id'].value_counts() * 100\n",
    "finishedRatio = finishedRatio.sort_values()\n",
    "finishedRatio"
   ]
  },
  {
   "cell_type": "markdown",
   "metadata": {},
   "source": [
    "The most finished track is track 14, the track that gets finished the least is track 3. As track 3 and 12 are the most popular tracks, it is interesting to see that they have quite a big gap regarding the finished to unfinished races ratio. Track 3 gets finished a lot less than track 12."
   ]
  },
  {
   "cell_type": "code",
   "execution_count": 15,
   "metadata": {
    "scrolled": false
   },
   "outputs": [],
   "source": [
    "# Lets save that\n",
    "tracks['finishedRatio'] = finishedRatio"
   ]
  },
  {
   "cell_type": "markdown",
   "metadata": {},
   "source": [
    "### 2.6 How does fuel_consumption differ on multiple tracks?\n",
    "As the tracks are probably different in length, it is likely that they also differ in average fuel_consumption. Lets check that, for obvious reasons lets only consider finished races"
   ]
  },
  {
   "cell_type": "code",
   "execution_count": 16,
   "metadata": {},
   "outputs": [
    {
     "data": {
      "text/html": [
       "<div>\n",
       "<style>\n",
       "    .dataframe thead tr:only-child th {\n",
       "        text-align: right;\n",
       "    }\n",
       "\n",
       "    .dataframe thead th {\n",
       "        text-align: left;\n",
       "    }\n",
       "\n",
       "    .dataframe tbody tr th {\n",
       "        vertical-align: top;\n",
       "    }\n",
       "</style>\n",
       "<table border=\"1\" class=\"dataframe\">\n",
       "  <thead>\n",
       "    <tr style=\"text-align: right;\">\n",
       "      <th></th>\n",
       "      <th>fuel_consumption</th>\n",
       "    </tr>\n",
       "    <tr>\n",
       "      <th>track_id</th>\n",
       "      <th></th>\n",
       "    </tr>\n",
       "  </thead>\n",
       "  <tbody>\n",
       "    <tr>\n",
       "      <th>4</th>\n",
       "      <td>0.923791</td>\n",
       "    </tr>\n",
       "    <tr>\n",
       "      <th>13</th>\n",
       "      <td>2.421139</td>\n",
       "    </tr>\n",
       "    <tr>\n",
       "      <th>7</th>\n",
       "      <td>2.592874</td>\n",
       "    </tr>\n",
       "    <tr>\n",
       "      <th>9</th>\n",
       "      <td>3.621559</td>\n",
       "    </tr>\n",
       "    <tr>\n",
       "      <th>10</th>\n",
       "      <td>4.731765</td>\n",
       "    </tr>\n",
       "    <tr>\n",
       "      <th>5</th>\n",
       "      <td>4.817917</td>\n",
       "    </tr>\n",
       "    <tr>\n",
       "      <th>12</th>\n",
       "      <td>9.483578</td>\n",
       "    </tr>\n",
       "    <tr>\n",
       "      <th>3</th>\n",
       "      <td>12.567264</td>\n",
       "    </tr>\n",
       "    <tr>\n",
       "      <th>6</th>\n",
       "      <td>12.696661</td>\n",
       "    </tr>\n",
       "    <tr>\n",
       "      <th>11</th>\n",
       "      <td>12.920609</td>\n",
       "    </tr>\n",
       "    <tr>\n",
       "      <th>8</th>\n",
       "      <td>13.147491</td>\n",
       "    </tr>\n",
       "    <tr>\n",
       "      <th>14</th>\n",
       "      <td>18.831907</td>\n",
       "    </tr>\n",
       "  </tbody>\n",
       "</table>\n",
       "</div>"
      ],
      "text/plain": [
       "          fuel_consumption\n",
       "track_id                  \n",
       "4                 0.923791\n",
       "13                2.421139\n",
       "7                 2.592874\n",
       "9                 3.621559\n",
       "10                4.731765\n",
       "5                 4.817917\n",
       "12                9.483578\n",
       "3                12.567264\n",
       "6                12.696661\n",
       "11               12.920609\n",
       "8                13.147491\n",
       "14               18.831907"
      ]
     },
     "execution_count": 16,
     "metadata": {},
     "output_type": "execute_result"
    }
   ],
   "source": [
    "meanFuelConsumption = pd.DataFrame(finished[['track_id', 'fuel_consumption']].dropna().groupby(['track_id'], as_index=False).mean())\n",
    "meanFuelConsumption = meanFuelConsumption.set_index(['track_id'])\n",
    "meanFuelConsumption.sort_values('fuel_consumption')"
   ]
  },
  {
   "cell_type": "markdown",
   "metadata": {
    "collapsed": true
   },
   "source": [
    "There is quite a range of neccessary fuel for the different tracks. Probably they differ a lot in length. We can assume that probably track 4 is the shortest and track 14 the longest. By this meassure track 14 is probably more than 20 times longer than track 4. The most popular track 12 is pretty much in the middle with its needed fuel of 9.48 units on average."
   ]
  },
  {
   "cell_type": "code",
   "execution_count": 17,
   "metadata": {},
   "outputs": [],
   "source": [
    "# Lets save that\n",
    "tracks['meanFuelConsumption'] = meanFuelConsumption['fuel_consumption']"
   ]
  },
  {
   "cell_type": "markdown",
   "metadata": {},
   "source": [
    "### 2.7 How much money do the players pay on the different tracks?\n",
    "Lets take the averages for all tracks"
   ]
  },
  {
   "cell_type": "code",
   "execution_count": 18,
   "metadata": {},
   "outputs": [
    {
     "data": {
      "text/html": [
       "<div>\n",
       "<style>\n",
       "    .dataframe thead tr:only-child th {\n",
       "        text-align: right;\n",
       "    }\n",
       "\n",
       "    .dataframe thead th {\n",
       "        text-align: left;\n",
       "    }\n",
       "\n",
       "    .dataframe tbody tr th {\n",
       "        vertical-align: top;\n",
       "    }\n",
       "</style>\n",
       "<table border=\"1\" class=\"dataframe\">\n",
       "  <thead>\n",
       "    <tr style=\"text-align: right;\">\n",
       "      <th></th>\n",
       "      <th>fuel_consumption</th>\n",
       "      <th>money</th>\n",
       "    </tr>\n",
       "    <tr>\n",
       "      <th>track_id</th>\n",
       "      <th></th>\n",
       "      <th></th>\n",
       "    </tr>\n",
       "  </thead>\n",
       "  <tbody>\n",
       "    <tr>\n",
       "      <th>10</th>\n",
       "      <td>4.731765</td>\n",
       "      <td>114.959044</td>\n",
       "    </tr>\n",
       "    <tr>\n",
       "      <th>11</th>\n",
       "      <td>12.920609</td>\n",
       "      <td>157.173210</td>\n",
       "    </tr>\n",
       "    <tr>\n",
       "      <th>7</th>\n",
       "      <td>2.592874</td>\n",
       "      <td>194.263502</td>\n",
       "    </tr>\n",
       "    <tr>\n",
       "      <th>13</th>\n",
       "      <td>2.421139</td>\n",
       "      <td>263.209809</td>\n",
       "    </tr>\n",
       "    <tr>\n",
       "      <th>3</th>\n",
       "      <td>12.567264</td>\n",
       "      <td>279.959315</td>\n",
       "    </tr>\n",
       "    <tr>\n",
       "      <th>8</th>\n",
       "      <td>13.147491</td>\n",
       "      <td>316.334545</td>\n",
       "    </tr>\n",
       "    <tr>\n",
       "      <th>4</th>\n",
       "      <td>0.923791</td>\n",
       "      <td>349.598901</td>\n",
       "    </tr>\n",
       "    <tr>\n",
       "      <th>14</th>\n",
       "      <td>18.831907</td>\n",
       "      <td>1062.404819</td>\n",
       "    </tr>\n",
       "    <tr>\n",
       "      <th>9</th>\n",
       "      <td>3.621559</td>\n",
       "      <td>1224.504695</td>\n",
       "    </tr>\n",
       "    <tr>\n",
       "      <th>5</th>\n",
       "      <td>4.817917</td>\n",
       "      <td>1402.618701</td>\n",
       "    </tr>\n",
       "    <tr>\n",
       "      <th>12</th>\n",
       "      <td>9.483578</td>\n",
       "      <td>2699.662897</td>\n",
       "    </tr>\n",
       "    <tr>\n",
       "      <th>6</th>\n",
       "      <td>12.696661</td>\n",
       "      <td>3363.821946</td>\n",
       "    </tr>\n",
       "  </tbody>\n",
       "</table>\n",
       "</div>"
      ],
      "text/plain": [
       "          fuel_consumption        money\n",
       "track_id                               \n",
       "10                4.731765   114.959044\n",
       "11               12.920609   157.173210\n",
       "7                 2.592874   194.263502\n",
       "13                2.421139   263.209809\n",
       "3                12.567264   279.959315\n",
       "8                13.147491   316.334545\n",
       "4                 0.923791   349.598901\n",
       "14               18.831907  1062.404819\n",
       "9                 3.621559  1224.504695\n",
       "5                 4.817917  1402.618701\n",
       "12                9.483578  2699.662897\n",
       "6                12.696661  3363.821946"
      ]
     },
     "execution_count": 18,
     "metadata": {},
     "output_type": "execute_result"
    }
   ],
   "source": [
    "# Lets also include the average money per track\n",
    "meanMoney = pd.DataFrame(finished[['track_id', 'fuel_consumption', 'money']].dropna().groupby(['track_id'], as_index=False).mean())\n",
    "meanMoney = meanMoney.set_index(['track_id'])\n",
    "meanMoney.sort_values('money')"
   ]
  },
  {
   "cell_type": "markdown",
   "metadata": {},
   "source": [
    "Track 12, which is the most popular has ranks very high when we compare the money. An explenation for that could be that only new players who dont have a lot of money play the other maps and the more experienced and 'richer' players play only track 12 and 6. But this is just a theory."
   ]
  },
  {
   "cell_type": "code",
   "execution_count": 19,
   "metadata": {},
   "outputs": [],
   "source": [
    "# Lets save that\n",
    "tracks['meanMoney'] = meanMoney['money']"
   ]
  },
  {
   "cell_type": "markdown",
   "metadata": {},
   "source": [
    "### 2.8 Lets find correlations\n",
    "We got quite some knowladge about the different tracks now. Take a look at the table bellow to see what we got. Lets find some correlations between the values."
   ]
  },
  {
   "cell_type": "code",
   "execution_count": 20,
   "metadata": {},
   "outputs": [
    {
     "data": {
      "text/html": [
       "<div>\n",
       "<style>\n",
       "    .dataframe thead tr:only-child th {\n",
       "        text-align: right;\n",
       "    }\n",
       "\n",
       "    .dataframe thead th {\n",
       "        text-align: left;\n",
       "    }\n",
       "\n",
       "    .dataframe tbody tr th {\n",
       "        vertical-align: top;\n",
       "    }\n",
       "</style>\n",
       "<table border=\"1\" class=\"dataframe\">\n",
       "  <thead>\n",
       "    <tr style=\"text-align: right;\">\n",
       "      <th></th>\n",
       "      <th>races</th>\n",
       "      <th>pupularity</th>\n",
       "      <th>finishedRatio</th>\n",
       "      <th>meanFuelConsumption</th>\n",
       "      <th>meanMoney</th>\n",
       "    </tr>\n",
       "    <tr>\n",
       "      <th>track_id</th>\n",
       "      <th></th>\n",
       "      <th></th>\n",
       "      <th></th>\n",
       "      <th></th>\n",
       "      <th></th>\n",
       "    </tr>\n",
       "  </thead>\n",
       "  <tbody>\n",
       "    <tr>\n",
       "      <th>12</th>\n",
       "      <td>104878</td>\n",
       "      <td>62.948580</td>\n",
       "      <td>67.511776</td>\n",
       "      <td>9.483578</td>\n",
       "      <td>2699.662897</td>\n",
       "    </tr>\n",
       "    <tr>\n",
       "      <th>3</th>\n",
       "      <td>38114</td>\n",
       "      <td>22.876315</td>\n",
       "      <td>59.455843</td>\n",
       "      <td>12.567264</td>\n",
       "      <td>279.959315</td>\n",
       "    </tr>\n",
       "    <tr>\n",
       "      <th>5</th>\n",
       "      <td>10901</td>\n",
       "      <td>6.542864</td>\n",
       "      <td>64.397762</td>\n",
       "      <td>4.817917</td>\n",
       "      <td>1402.618701</td>\n",
       "    </tr>\n",
       "    <tr>\n",
       "      <th>8</th>\n",
       "      <td>2206</td>\n",
       "      <td>1.324058</td>\n",
       "      <td>63.961922</td>\n",
       "      <td>13.147491</td>\n",
       "      <td>316.334545</td>\n",
       "    </tr>\n",
       "    <tr>\n",
       "      <th>7</th>\n",
       "      <td>2132</td>\n",
       "      <td>1.279643</td>\n",
       "      <td>74.953096</td>\n",
       "      <td>2.592874</td>\n",
       "      <td>194.263502</td>\n",
       "    </tr>\n",
       "    <tr>\n",
       "      <th>4</th>\n",
       "      <td>1995</td>\n",
       "      <td>1.197414</td>\n",
       "      <td>63.909774</td>\n",
       "      <td>0.923791</td>\n",
       "      <td>349.598901</td>\n",
       "    </tr>\n",
       "    <tr>\n",
       "      <th>10</th>\n",
       "      <td>1806</td>\n",
       "      <td>1.083975</td>\n",
       "      <td>66.666667</td>\n",
       "      <td>4.731765</td>\n",
       "      <td>114.959044</td>\n",
       "    </tr>\n",
       "    <tr>\n",
       "      <th>13</th>\n",
       "      <td>1471</td>\n",
       "      <td>0.882905</td>\n",
       "      <td>65.941536</td>\n",
       "      <td>2.421139</td>\n",
       "      <td>263.209809</td>\n",
       "    </tr>\n",
       "    <tr>\n",
       "      <th>9</th>\n",
       "      <td>903</td>\n",
       "      <td>0.541988</td>\n",
       "      <td>71.871539</td>\n",
       "      <td>3.621559</td>\n",
       "      <td>1224.504695</td>\n",
       "    </tr>\n",
       "    <tr>\n",
       "      <th>6</th>\n",
       "      <td>797</td>\n",
       "      <td>0.478366</td>\n",
       "      <td>68.381430</td>\n",
       "      <td>12.696661</td>\n",
       "      <td>3363.821946</td>\n",
       "    </tr>\n",
       "    <tr>\n",
       "      <th>11</th>\n",
       "      <td>777</td>\n",
       "      <td>0.466361</td>\n",
       "      <td>62.162162</td>\n",
       "      <td>12.920609</td>\n",
       "      <td>157.173210</td>\n",
       "    </tr>\n",
       "    <tr>\n",
       "      <th>14</th>\n",
       "      <td>629</td>\n",
       "      <td>0.377531</td>\n",
       "      <td>75.993641</td>\n",
       "      <td>18.831907</td>\n",
       "      <td>1062.404819</td>\n",
       "    </tr>\n",
       "  </tbody>\n",
       "</table>\n",
       "</div>"
      ],
      "text/plain": [
       "           races  pupularity  finishedRatio  meanFuelConsumption    meanMoney\n",
       "track_id                                                                     \n",
       "12        104878   62.948580      67.511776             9.483578  2699.662897\n",
       "3          38114   22.876315      59.455843            12.567264   279.959315\n",
       "5          10901    6.542864      64.397762             4.817917  1402.618701\n",
       "8           2206    1.324058      63.961922            13.147491   316.334545\n",
       "7           2132    1.279643      74.953096             2.592874   194.263502\n",
       "4           1995    1.197414      63.909774             0.923791   349.598901\n",
       "10          1806    1.083975      66.666667             4.731765   114.959044\n",
       "13          1471    0.882905      65.941536             2.421139   263.209809\n",
       "9            903    0.541988      71.871539             3.621559  1224.504695\n",
       "6            797    0.478366      68.381430            12.696661  3363.821946\n",
       "11           777    0.466361      62.162162            12.920609   157.173210\n",
       "14           629    0.377531      75.993641            18.831907  1062.404819"
      ]
     },
     "execution_count": 20,
     "metadata": {},
     "output_type": "execute_result"
    }
   ],
   "source": [
    "tracks"
   ]
  },
  {
   "cell_type": "code",
   "execution_count": 21,
   "metadata": {},
   "outputs": [
    {
     "data": {
      "text/html": [
       "<div>\n",
       "<style>\n",
       "    .dataframe thead tr:only-child th {\n",
       "        text-align: right;\n",
       "    }\n",
       "\n",
       "    .dataframe thead th {\n",
       "        text-align: left;\n",
       "    }\n",
       "\n",
       "    .dataframe tbody tr th {\n",
       "        vertical-align: top;\n",
       "    }\n",
       "</style>\n",
       "<table border=\"1\" class=\"dataframe\">\n",
       "  <thead>\n",
       "    <tr style=\"text-align: right;\">\n",
       "      <th></th>\n",
       "      <th>races</th>\n",
       "      <th>pupularity</th>\n",
       "      <th>finishedRatio</th>\n",
       "      <th>meanFuelConsumption</th>\n",
       "      <th>meanMoney</th>\n",
       "    </tr>\n",
       "  </thead>\n",
       "  <tbody>\n",
       "    <tr>\n",
       "      <th>races</th>\n",
       "      <td>1.000000</td>\n",
       "      <td>1.000000</td>\n",
       "      <td>-0.159806</td>\n",
       "      <td>0.123604</td>\n",
       "      <td>0.434617</td>\n",
       "    </tr>\n",
       "    <tr>\n",
       "      <th>pupularity</th>\n",
       "      <td>1.000000</td>\n",
       "      <td>1.000000</td>\n",
       "      <td>-0.159806</td>\n",
       "      <td>0.123604</td>\n",
       "      <td>0.434617</td>\n",
       "    </tr>\n",
       "    <tr>\n",
       "      <th>finishedRatio</th>\n",
       "      <td>-0.159806</td>\n",
       "      <td>-0.159806</td>\n",
       "      <td>1.000000</td>\n",
       "      <td>0.010400</td>\n",
       "      <td>0.219718</td>\n",
       "    </tr>\n",
       "    <tr>\n",
       "      <th>meanFuelConsumption</th>\n",
       "      <td>0.123604</td>\n",
       "      <td>0.123604</td>\n",
       "      <td>0.010400</td>\n",
       "      <td>1.000000</td>\n",
       "      <td>0.252360</td>\n",
       "    </tr>\n",
       "    <tr>\n",
       "      <th>meanMoney</th>\n",
       "      <td>0.434617</td>\n",
       "      <td>0.434617</td>\n",
       "      <td>0.219718</td>\n",
       "      <td>0.252360</td>\n",
       "      <td>1.000000</td>\n",
       "    </tr>\n",
       "  </tbody>\n",
       "</table>\n",
       "</div>"
      ],
      "text/plain": [
       "                        races  pupularity  finishedRatio  meanFuelConsumption  \\\n",
       "races                1.000000    1.000000      -0.159806             0.123604   \n",
       "pupularity           1.000000    1.000000      -0.159806             0.123604   \n",
       "finishedRatio       -0.159806   -0.159806       1.000000             0.010400   \n",
       "meanFuelConsumption  0.123604    0.123604       0.010400             1.000000   \n",
       "meanMoney            0.434617    0.434617       0.219718             0.252360   \n",
       "\n",
       "                     meanMoney  \n",
       "races                 0.434617  \n",
       "pupularity            0.434617  \n",
       "finishedRatio         0.219718  \n",
       "meanFuelConsumption   0.252360  \n",
       "meanMoney             1.000000  "
      ]
     },
     "execution_count": 21,
     "metadata": {},
     "output_type": "execute_result"
    }
   ],
   "source": [
    "# Lets see if there is any correlations between the different attributes of the tracks\n",
    "tracks.corr()"
   ]
  },
  {
   "cell_type": "markdown",
   "metadata": {},
   "source": [
    "There is quite a correlation between popularity and meanMoney. We stated an explenation for that in the previous chapter. The other correlations are not very strong."
   ]
  },
  {
   "cell_type": "markdown",
   "metadata": {},
   "source": [
    "### 2.9 Is there a correlation between the popularity of a track and the money?\n",
    "Lets investigate this by visualising"
   ]
  },
  {
   "cell_type": "code",
   "execution_count": 22,
   "metadata": {
    "scrolled": true
   },
   "outputs": [
    {
     "data": {
      "image/png": "[encoded data removed]",
      "text/plain": [
       "<matplotlib.figure.Figure at 0x99955d0>"
      ]
     },
     "metadata": {},
     "output_type": "display_data"
    }
   ],
   "source": [
    "# There seems to be a correlation between the Money and the popularity of the track, lets investigate\n",
    "x, y = tracks[['pupularity', 'meanMoney']].values.T\n",
    "plt.scatter(x, y)\n",
    "plt.ylabel(\"Popularity\")\n",
    "plt.xlabel(\"Mean Money\")\n",
    "plt.show()"
   ]
  },
  {
   "cell_type": "markdown",
   "metadata": {
    "collapsed": true
   },
   "source": [
    "Track 12 is an outlayer. It seems to be a litte far fatched to talk of a correlation here, but it is interesting that the most popular track is also one of the ones with the heighest mean money. Maybe only casual players with little money race on the other maps."
   ]
  },
  {
   "cell_type": "markdown",
   "metadata": {},
   "source": [
    "### 2.10 What is the most likely weather?"
   ]
  },
  {
   "cell_type": "code",
   "execution_count": 23,
   "metadata": {},
   "outputs": [
    {
     "data": {
      "text/plain": [
       "sunny       50.145281\n",
       "rainy       25.015811\n",
       "thundery    12.463909\n",
       "snowy       12.374999\n",
       "Name: weather, dtype: float64"
      ]
     },
     "execution_count": 23,
     "metadata": {},
     "output_type": "execute_result"
    }
   ],
   "source": [
    "allRaces['weather'].value_counts() / allRaces['weather'].value_counts().sum() * 100"
   ]
  },
  {
   "cell_type": "markdown",
   "metadata": {
    "collapsed": true
   },
   "source": [
    "Sunny is the most likely. How about on the different tracks?"
   ]
  },
  {
   "cell_type": "code",
   "execution_count": 24,
   "metadata": {},
   "outputs": [
    {
     "data": {
      "text/html": [
       "<div>\n",
       "<style>\n",
       "    .dataframe thead tr:only-child th {\n",
       "        text-align: right;\n",
       "    }\n",
       "\n",
       "    .dataframe thead th {\n",
       "        text-align: left;\n",
       "    }\n",
       "\n",
       "    .dataframe tbody tr th {\n",
       "        vertical-align: top;\n",
       "    }\n",
       "</style>\n",
       "<table border=\"1\" class=\"dataframe\">\n",
       "  <thead>\n",
       "    <tr style=\"text-align: right;\">\n",
       "      <th></th>\n",
       "      <th>rainy</th>\n",
       "      <th>snowy</th>\n",
       "      <th>sunny</th>\n",
       "      <th>thundery</th>\n",
       "    </tr>\n",
       "    <tr>\n",
       "      <th>track_id</th>\n",
       "      <th></th>\n",
       "      <th></th>\n",
       "      <th></th>\n",
       "      <th></th>\n",
       "    </tr>\n",
       "  </thead>\n",
       "  <tbody>\n",
       "    <tr>\n",
       "      <th>3</th>\n",
       "      <td>0.248268</td>\n",
       "      <td>0.125502</td>\n",
       "      <td>0.500375</td>\n",
       "      <td>0.125855</td>\n",
       "    </tr>\n",
       "    <tr>\n",
       "      <th>4</th>\n",
       "      <td>0.259608</td>\n",
       "      <td>0.116863</td>\n",
       "      <td>0.492549</td>\n",
       "      <td>0.130980</td>\n",
       "    </tr>\n",
       "    <tr>\n",
       "      <th>5</th>\n",
       "      <td>0.254416</td>\n",
       "      <td>0.125071</td>\n",
       "      <td>0.492165</td>\n",
       "      <td>0.128348</td>\n",
       "    </tr>\n",
       "    <tr>\n",
       "      <th>6</th>\n",
       "      <td>0.253211</td>\n",
       "      <td>0.130275</td>\n",
       "      <td>0.506422</td>\n",
       "      <td>0.110092</td>\n",
       "    </tr>\n",
       "    <tr>\n",
       "      <th>7</th>\n",
       "      <td>0.232791</td>\n",
       "      <td>0.133917</td>\n",
       "      <td>0.518148</td>\n",
       "      <td>0.115144</td>\n",
       "    </tr>\n",
       "    <tr>\n",
       "      <th>8</th>\n",
       "      <td>0.253012</td>\n",
       "      <td>0.115521</td>\n",
       "      <td>0.503189</td>\n",
       "      <td>0.128278</td>\n",
       "    </tr>\n",
       "    <tr>\n",
       "      <th>9</th>\n",
       "      <td>0.269646</td>\n",
       "      <td>0.130971</td>\n",
       "      <td>0.471495</td>\n",
       "      <td>0.127889</td>\n",
       "    </tr>\n",
       "    <tr>\n",
       "      <th>10</th>\n",
       "      <td>0.230897</td>\n",
       "      <td>0.126246</td>\n",
       "      <td>0.503322</td>\n",
       "      <td>0.139535</td>\n",
       "    </tr>\n",
       "    <tr>\n",
       "      <th>11</th>\n",
       "      <td>0.256729</td>\n",
       "      <td>0.120083</td>\n",
       "      <td>0.509317</td>\n",
       "      <td>0.113872</td>\n",
       "    </tr>\n",
       "    <tr>\n",
       "      <th>12</th>\n",
       "      <td>0.250674</td>\n",
       "      <td>0.122661</td>\n",
       "      <td>0.502945</td>\n",
       "      <td>0.123720</td>\n",
       "    </tr>\n",
       "    <tr>\n",
       "      <th>13</th>\n",
       "      <td>0.260825</td>\n",
       "      <td>0.138144</td>\n",
       "      <td>0.471134</td>\n",
       "      <td>0.129897</td>\n",
       "    </tr>\n",
       "    <tr>\n",
       "      <th>14</th>\n",
       "      <td>0.215481</td>\n",
       "      <td>0.142259</td>\n",
       "      <td>0.514644</td>\n",
       "      <td>0.127615</td>\n",
       "    </tr>\n",
       "  </tbody>\n",
       "</table>\n",
       "</div>"
      ],
      "text/plain": [
       "             rainy     snowy     sunny  thundery\n",
       "track_id                                        \n",
       "3         0.248268  0.125502  0.500375  0.125855\n",
       "4         0.259608  0.116863  0.492549  0.130980\n",
       "5         0.254416  0.125071  0.492165  0.128348\n",
       "6         0.253211  0.130275  0.506422  0.110092\n",
       "7         0.232791  0.133917  0.518148  0.115144\n",
       "8         0.253012  0.115521  0.503189  0.128278\n",
       "9         0.269646  0.130971  0.471495  0.127889\n",
       "10        0.230897  0.126246  0.503322  0.139535\n",
       "11        0.256729  0.120083  0.509317  0.113872\n",
       "12        0.250674  0.122661  0.502945  0.123720\n",
       "13        0.260825  0.138144  0.471134  0.129897\n",
       "14        0.215481  0.142259  0.514644  0.127615"
      ]
     },
     "execution_count": 24,
     "metadata": {},
     "output_type": "execute_result"
    }
   ],
   "source": [
    "tracksWeather = pd.DataFrame(columns=('rainy', 'snowy', 'sunny', 'thundery'))\n",
    "tracksWeather.index.name = 'track_id'\n",
    "\n",
    "for x in range(3, 15):\n",
    "    onlyTrack = allRaces.loc[allRaces['track_id'] == x]\n",
    "    tracksWeather.loc[x] = onlyTrack['weather'].value_counts(normalize=True).sort_index().values\n",
    "\n",
    "tracksWeather"
   ]
  },
  {
   "cell_type": "markdown",
   "metadata": {
    "collapsed": true
   },
   "source": [
    "The distribution of the probabilites for the different weathers seem to be quite similar on the different tracks. Eighter is is random or players allways choose the weather with always the same chances on every track."
   ]
  },
  {
   "cell_type": "code",
   "execution_count": 25,
   "metadata": {
    "scrolled": false
   },
   "outputs": [],
   "source": [
    "# Lets save that\n",
    "tracks = tracks.join(tracksWeather)"
   ]
  },
  {
   "cell_type": "markdown",
   "metadata": {},
   "source": [
    "### 3.11 On which weather do the player spend the most money?"
   ]
  },
  {
   "cell_type": "code",
   "execution_count": 26,
   "metadata": {},
   "outputs": [
    {
     "data": {
      "text/html": [
       "<div>\n",
       "<style>\n",
       "    .dataframe thead tr:only-child th {\n",
       "        text-align: right;\n",
       "    }\n",
       "\n",
       "    .dataframe thead th {\n",
       "        text-align: left;\n",
       "    }\n",
       "\n",
       "    .dataframe tbody tr th {\n",
       "        vertical-align: top;\n",
       "    }\n",
       "</style>\n",
       "<table border=\"1\" class=\"dataframe\">\n",
       "  <thead>\n",
       "    <tr style=\"text-align: right;\">\n",
       "      <th></th>\n",
       "      <th>weather</th>\n",
       "      <th>money</th>\n",
       "    </tr>\n",
       "  </thead>\n",
       "  <tbody>\n",
       "    <tr>\n",
       "      <th>3</th>\n",
       "      <td>thundery</td>\n",
       "      <td>1888.424474</td>\n",
       "    </tr>\n",
       "    <tr>\n",
       "      <th>1</th>\n",
       "      <td>snowy</td>\n",
       "      <td>1971.035849</td>\n",
       "    </tr>\n",
       "    <tr>\n",
       "      <th>0</th>\n",
       "      <td>rainy</td>\n",
       "      <td>2190.531841</td>\n",
       "    </tr>\n",
       "    <tr>\n",
       "      <th>2</th>\n",
       "      <td>sunny</td>\n",
       "      <td>2313.629561</td>\n",
       "    </tr>\n",
       "  </tbody>\n",
       "</table>\n",
       "</div>"
      ],
      "text/plain": [
       "    weather        money\n",
       "3  thundery  1888.424474\n",
       "1     snowy  1971.035849\n",
       "0     rainy  2190.531841\n",
       "2     sunny  2313.629561"
      ]
     },
     "execution_count": 26,
     "metadata": {},
     "output_type": "execute_result"
    }
   ],
   "source": [
    "finished.groupby(['weather'], as_index=False).mean()[['weather', 'money']].sort_values(\"money\")"
   ]
  },
  {
   "cell_type": "markdown",
   "metadata": {
    "collapsed": true
   },
   "source": [
    "They spend the most money in the sun"
   ]
  },
  {
   "cell_type": "markdown",
   "metadata": {},
   "source": [
    "### 3.12 Is the opponent or the challenger more likely to win?"
   ]
  },
  {
   "cell_type": "code",
   "execution_count": 27,
   "metadata": {},
   "outputs": [
    {
     "data": {
      "text/plain": [
       "56.076590986168526"
      ]
     },
     "execution_count": 27,
     "metadata": {},
     "output_type": "execute_result"
    }
   ],
   "source": [
    "challenger = 0\n",
    "opponent = 0\n",
    "\n",
    "for row in finished.itertuples():\n",
    "    if getattr(row, 'winner') == getattr(row, 'challenger'):\n",
    "        challenger = challenger + 1\n",
    "    elif getattr(row, 'winner') == getattr(row, 'opponent'):\n",
    "        opponent = opponent + 1\n",
    "    else:\n",
    "        raise Exception('Winner is nighter opponent nor challenger')\n",
    "        \n",
    "challenger / (challenger + opponent) * 100"
   ]
  },
  {
   "cell_type": "markdown",
   "metadata": {
    "collapsed": true
   },
   "source": [
    "The challenger is slightly more likely to win. Challengers in 56% of the time. We can use that later as a feature for our prediction of races."
   ]
  },
  {
   "cell_type": "markdown",
   "metadata": {},
   "source": [
    "### 3.13 Do older accounts win over newer accouts?\n",
    "Older accounts should have a lower id-number, while newer accounts should have a heigher one. Therefore could lower id drivers have more experience and win more often. Lets check if that is true."
   ]
  },
  {
   "cell_type": "code",
   "execution_count": 28,
   "metadata": {},
   "outputs": [
    {
     "data": {
      "text/plain": [
       "66.42865654130652"
      ]
     },
     "execution_count": 28,
     "metadata": {},
     "output_type": "execute_result"
    }
   ],
   "source": [
    "lowerId = 0\n",
    "higherId = 0\n",
    "\n",
    "for row in finished.itertuples():\n",
    "    winnerId = getattr(row, 'winner')\n",
    "    loserId = -1\n",
    "    if winnerId == getattr(row, 'challenger'):\n",
    "        loserId = getattr(row, 'opponent')\n",
    "    elif winnerId == getattr(row, 'opponent'):\n",
    "        loserId = getattr(row, 'challenger')\n",
    "        \n",
    "    if loserId == -1:\n",
    "        raise Exception('Something went wrong')\n",
    "    \n",
    "    if winnerId > loserId:\n",
    "        higherId = higherId + 1\n",
    "    elif winnerId < loserId:\n",
    "        lowerId = lowerId + 1\n",
    "    else:\n",
    "        raise Exception(\"Something went wrong\")\n",
    "    \n",
    "lowerId / (lowerId + higherId) * 100"
   ]
  },
  {
   "cell_type": "markdown",
   "metadata": {
    "collapsed": true
   },
   "source": [
    "This hypothesis can assumed to be true, lowerIds (probably older accounts) win significantly more often than higher ids (66%). We can also use that later as a feature for our prediction of races."
   ]
  },
  {
   "cell_type": "markdown",
   "metadata": {},
   "source": [
    "### 2.14 How many races get finished?"
   ]
  },
  {
   "cell_type": "code",
   "execution_count": 29,
   "metadata": {},
   "outputs": [
    {
     "data": {
      "text/plain": [
       "finished    65.482057\n",
       "retired     25.943376\n",
       "declined     6.837566\n",
       "waiting      1.737001\n",
       "Name: status, dtype: float64"
      ]
     },
     "execution_count": 29,
     "metadata": {},
     "output_type": "execute_result"
    }
   ],
   "source": [
    "allRaces['status'].value_counts(normalize=True) * 100"
   ]
  },
  {
   "cell_type": "markdown",
   "metadata": {
    "collapsed": true
   },
   "source": [
    "Only 65% of all races get finished. All the others are declined, retired or waiting."
   ]
  },
  {
   "cell_type": "markdown",
   "metadata": {},
   "source": [
    "### 2.15 On which days happen the most races? "
   ]
  },
  {
   "cell_type": "code",
   "execution_count": 30,
   "metadata": {
    "collapsed": true
   },
   "outputs": [],
   "source": [
    "# First we convert the string of race_driven into datetimes\n",
    "allRaces['race_driven'] = pd.to_datetime(allRaces['race_driven'], errors='coerce')"
   ]
  },
  {
   "cell_type": "code",
   "execution_count": 31,
   "metadata": {
    "collapsed": true
   },
   "outputs": [],
   "source": [
    "# Lets create a field for weekdays\n",
    "allRaces['weekday'] = allRaces.apply(lambda row: row['race_driven'].isoweekday(), axis=1)"
   ]
  },
  {
   "cell_type": "code",
   "execution_count": 32,
   "metadata": {},
   "outputs": [
    {
     "data": {
      "text/plain": [
       "7.0    17212\n",
       "1.0    16069\n",
       "3.0    16036\n",
       "2.0    15335\n",
       "6.0    15136\n",
       "5.0    14711\n",
       "4.0    14600\n",
       "Name: weekday, dtype: int64"
      ]
     },
     "execution_count": 32,
     "metadata": {},
     "output_type": "execute_result"
    }
   ],
   "source": [
    "allRaces['weekday'].value_counts()"
   ]
  },
  {
   "cell_type": "markdown",
   "metadata": {},
   "source": [
    "Most races are done on sunday and monday. Thursday and friday are the days in which the least races happen."
   ]
  },
  {
   "cell_type": "markdown",
   "metadata": {},
   "source": [
    "### 2.16 At which hours happen the most races?"
   ]
  },
  {
   "cell_type": "code",
   "execution_count": 33,
   "metadata": {
    "collapsed": true
   },
   "outputs": [],
   "source": [
    "allRaces['hour'] = allRaces.apply(lambda row: row['race_driven'].hour, axis=1)"
   ]
  },
  {
   "cell_type": "code",
   "execution_count": 34,
   "metadata": {},
   "outputs": [
    {
     "data": {
      "text/plain": [
       "21.0    8281\n",
       "20.0    7956\n",
       "14.0    7310\n",
       "19.0    7082\n",
       "18.0    6991\n",
       "13.0    6982\n",
       "22.0    6945\n",
       "15.0    6767\n",
       "17.0    6688\n",
       "12.0    6394\n",
       "16.0    6143\n",
       "11.0    4696\n",
       "23.0    4690\n",
       "0.0     4540\n",
       "10.0    4053\n",
       "9.0     3074\n",
       "8.0     2233\n",
       "1.0     1960\n",
       "6.0     1857\n",
       "7.0     1778\n",
       "2.0     1154\n",
       "3.0      649\n",
       "5.0      442\n",
       "4.0      434\n",
       "Name: hour, dtype: int64"
      ]
     },
     "execution_count": 34,
     "metadata": {},
     "output_type": "execute_result"
    }
   ],
   "source": [
    "allRaces['hour'].value_counts()"
   ]
  },
  {
   "cell_type": "markdown",
   "metadata": {},
   "source": [
    "The most popular hours for races are 21:00 and 20:00. Between 3:00 and 5:00 are the least popular. Just as expected."
   ]
  },
  {
   "cell_type": "markdown",
   "metadata": {},
   "source": [
    "### 2.17 How did the amount of done races per month develope? "
   ]
  },
  {
   "cell_type": "code",
   "execution_count": 35,
   "metadata": {},
   "outputs": [],
   "source": [
    "import datetime\n",
    "import math\n",
    "import time\n",
    "\n",
    "firstDate = allRaces.values[0][1].timestamp();\n",
    "allRaces['time_number'] = allRaces.apply(lambda row: (row['race_driven'].timestamp() - firstDate), axis=1, ignore_failures=True)\n",
    "dates = allRaces.dropna().apply(lambda row: int(row['time_number'] / 60 / 60 / 24 / 30), axis=1, ignore_failures=True)"
   ]
  },
  {
   "cell_type": "code",
   "execution_count": 36,
   "metadata": {},
   "outputs": [
    {
     "data": {
      "image/png": "[encoded data removed]",
      "text/plain": [
       "<matplotlib.figure.Figure at 0xbe610d0>"
      ]
     },
     "metadata": {},
     "output_type": "display_data"
    }
   ],
   "source": [
    "y = dates.value_counts().values\n",
    "x = dates.value_counts().index\n",
    "\n",
    "plt.scatter(x, y)\n",
    "plt.ylabel(\"Races\")\n",
    "plt.xlabel(\"Month\")\n",
    "plt.show()"
   ]
  },
  {
   "cell_type": "markdown",
   "metadata": {},
   "source": [
    "As you can see in the chart, the first couple of months there was a spike in players and then a steady decline after the 20th month. There are little spikes in regular intervals but it looks quite smooth."
   ]
  },
  {
   "cell_type": "markdown",
   "metadata": {},
   "source": [
    "## 3 Prediction\n",
    "Given two players we want to predict the outcome of the race. First of all we have to engineer some features.\n",
    "\n",
    "### 3.1 Features\n",
    "\n",
    "#### Feature ideas\n",
    "1) Who is the challanger? As seen before, this has some predictive value.\n",
    "2) Who had more games? I think the more games a player had, the more experieced and skilled he should be.\n",
    "3) Who has the older account? We have proofen before that this has predictive value.\n",
    "4) Who won more games? People who win more probably have a higher chance to win again.\n",
    "5) Who has a higher win/loos ratio? Not only absolute wins but also wins in relation to losses are important.\n",
    "6) Who won more games agains the same opponend? If those two players played against each other before, we should know about that.\n",
    "\n",
    "We are developing a function now that returns these features in relation between the two players. We only regard races that have been completed before the current time, this makes sure our algorithm cant look into the future.  "
   ]
  },
  {
   "cell_type": "code",
   "execution_count": 37,
   "metadata": {},
   "outputs": [],
   "source": [
    "rp = allRaces.dropna()\n",
    "def getPredictionFeatures(time, challenger, opponent):\n",
    "    challenger_games = rp[(rp.time_number < time) & ((rp.challenger == challenger) | (rp.opponent == challenger))]\n",
    "    challenger_wins = challenger_games[challenger_games.winner == challenger]\n",
    "    \n",
    "    opponent_games = rp[(rp.time_number < time) & ((rp.challenger == opponent) | (rp.opponent == opponent))]\n",
    "    opponent_wins = opponent_games[opponent_games.winner == opponent]\n",
    "    \n",
    "    samesetup_games_ids = opponent_games.index.intersection(challenger_games.index)\n",
    "    samesetup_games = rp[rp.index.isin(samesetup_games_ids)]\n",
    "        \n",
    "    if opponent_games.shape[0] + challenger_games.shape[0] != 0:\n",
    "        gamesindex = challenger_games.shape[0] / (opponent_games.shape[0] + challenger_games.shape[0])\n",
    "    else:\n",
    "        gamesindex = 0.5\n",
    "    \n",
    "    if opponent_wins.shape[0] + challenger_wins.shape[0] != 0:\n",
    "        winindex = challenger_wins.shape[0] / (opponent_wins.shape[0] + challenger_wins.shape[0])\n",
    "    else:\n",
    "        winindex = 0.5\n",
    "    \n",
    "    if challenger_games.shape[0] != 0 and opponent_games.shape[0] != 0:\n",
    "        challengerWinCount = challenger_wins.shape[0] / challenger_games.shape[0]\n",
    "        if (challengerWinCount + (opponent_wins.shape[0] / opponent_games.shape[0])) != 0:\n",
    "            winCountIndex = challengerWinCount / (challengerWinCount + (opponent_wins.shape[0] / opponent_games.shape[0]))\n",
    "        else:\n",
    "            winCountIndex = 0.5\n",
    "    else:\n",
    "        winCountIndex = 0.5\n",
    "    \n",
    "    if samesetup_games.shape[0] != 0:\n",
    "        samesetupWinIndex = samesetup_games[samesetup_games.winner == challenger].shape[0] / samesetup_games.shape[0]\n",
    "    else:\n",
    "        samesetupWinIndex = 0.5\n",
    "    \n",
    "    accountAgeIndex = int(challenger > opponent)\n",
    "    \n",
    "    return gamesindex, winindex, winCountIndex, samesetupWinIndex, accountAgeIndex"
   ]
  },
  {
   "cell_type": "markdown",
   "metadata": {},
   "source": [
    "Lets now see how the feature array would look like"
   ]
  },
  {
   "cell_type": "code",
   "execution_count": 38,
   "metadata": {
    "scrolled": false
   },
   "outputs": [
    {
     "data": {
      "text/plain": [
       "(0.9858044164037855, 0.9943117178612059, 0.7156764625602766, 0.5, 1)"
      ]
     },
     "execution_count": 38,
     "metadata": {},
     "output_type": "execute_result"
    }
   ],
   "source": [
    "getPredictionFeatures(1666080, 5, 4)"
   ]
  },
  {
   "cell_type": "markdown",
   "metadata": {},
   "source": [
    "All these values can range from 0 (bad for the challenger) to 1 (good for the challenger). If the algorithm runs into a division by zero (means there are no samples) it will return the variable as 0.5 \n",
    "\n",
    "We calculate now all the features and the outcomes from all the finished games and put them in our x (features) and y (outcome) array. We always provide the current timestamp to ensure the algorithm cant look into the future."
   ]
  },
  {
   "cell_type": "code",
   "execution_count": 39,
   "metadata": {},
   "outputs": [],
   "source": [
    "x = []\n",
    "y = []\n",
    "\n",
    "for index, row in rp.iterrows():\n",
    "    pred = getPredictionFeatures(row.time_number, row.challenger, row.opponent)\n",
    "    truth = int(row.winner == row.challenger)\n",
    "    x.append(pred)\n",
    "    y.append(truth)"
   ]
  },
  {
   "cell_type": "markdown",
   "metadata": {},
   "source": [
    "### 3.2 Training and test data\n",
    "\n",
    "Now we split our x and y data into training and test datasets (80%/20%). We use sklearn for machine learning"
   ]
  },
  {
   "cell_type": "code",
   "execution_count": 40,
   "metadata": {},
   "outputs": [],
   "source": [
    "from sklearn.model_selection import train_test_split\n",
    "x_train, x_test, y_train, y_test = train_test_split(x, y, test_size=0.2)  "
   ]
  },
  {
   "cell_type": "markdown",
   "metadata": {},
   "source": [
    "### 3.3 Machine Learning\n",
    "\n",
    "Now we train the machine learning algorithm of our choice with the training data and print out how he scores with our testing data. We treat this as a classification problem and therefore predict \"Is the challenger going to win?\". If the awnser is 0, then our prediction is \"No\", if the awnser is 1, then our prediction is \"Yes, he is going to\""
   ]
  },
  {
   "cell_type": "code",
   "execution_count": 41,
   "metadata": {},
   "outputs": [
    {
     "data": {
      "text/plain": [
       "0.75562854992130291"
      ]
     },
     "execution_count": 41,
     "metadata": {},
     "output_type": "execute_result"
    }
   ],
   "source": [
    "from sklearn.ensemble import GradientBoostingClassifier\n",
    "\n",
    "clf = GradientBoostingClassifier()\n",
    "clf.fit(x_train, y_train)\n",
    "clf.score(x_test, y_test)"
   ]
  },
  {
   "cell_type": "markdown",
   "metadata": {},
   "source": [
    "### 3.4 Predicting\n",
    "\n",
    "As you can se we got a precition of 75%, I guess that is decent. We can might that score by trying other algorithms and other settings.\n",
    "\n",
    "That is how we can do a prediction of the 200th race with the trained model:"
   ]
  },
  {
   "cell_type": "code",
   "execution_count": 42,
   "metadata": {},
   "outputs": [
    {
     "name": "stdout",
     "output_type": "stream",
     "text": [
      "Prediction: [1]\n",
      "Truth: [1]\n"
     ]
    }
   ],
   "source": [
    "print(\"Prediction: \" + str(clf.predict([x[200]])))\n",
    "print(\"Truth: \" + str([y[200]]))"
   ]
  },
  {
   "cell_type": "markdown",
   "metadata": {},
   "source": [
    "In this case we are lucky and the prediction and the truth are equal. As the precition is 75% it will be correct 75% of the time.\n",
    "\n",
    "Thank you :)"
   ]
  }
 ],
 "metadata": {
  "kernelspec": {
   "display_name": "Python 3",
   "language": "python",
   "name": "python3"
  },
  "language_info": {
   "codemirror_mode": {
    "name": "ipython",
    "version": 3
   },
   "file_extension": ".py",
   "mimetype": "text/x-python",
   "name": "python",
   "nbconvert_exporter": "python",
   "pygments_lexer": "ipython3",
   "version": "3.6.1"
  }
 },
 "nbformat": 4,
 "nbformat_minor": 2
}
